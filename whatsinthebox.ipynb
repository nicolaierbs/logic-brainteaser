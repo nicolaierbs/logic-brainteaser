{
 "cells": [
  {
   "cell_type": "markdown",
   "metadata": {},
   "source": [
    "# What's in the box?"
   ]
  },
  {
   "cell_type": "markdown",
   "metadata": {},
   "source": [
    "You have one box with three balls. One ball is red, one ball is blue and the third ball is either red or blue (50% probability). You pick one red ball out of the boc (without returning it). What's the probability of picking a blue ball next?"
   ]
  },
  {
   "cell_type": "code",
   "execution_count": 3,
   "metadata": {},
   "outputs": [],
   "source": [
    "import random"
   ]
  },
  {
   "cell_type": "code",
   "execution_count": 4,
   "metadata": {},
   "outputs": [],
   "source": [
    "def pick_order():\n",
    "    # Get the color of the third ball\n",
    "    third_ball = random.choice([True, False])\n",
    "\n",
    "    # We have three balls marked as red or not red\n",
    "    balls = [True, False, third_ball]\n",
    "    \n",
    "    random.shuffle(balls)\n",
    "    return balls"
   ]
  },
  {
   "cell_type": "markdown",
   "metadata": {},
   "source": [
    "Let's run the experiment several times"
   ]
  },
  {
   "cell_type": "code",
   "execution_count": 5,
   "metadata": {},
   "outputs": [],
   "source": [
    "runs = list()\n",
    "for i in range(10):\n",
    "    runs.append(pick_order())"
   ]
  },
  {
   "cell_type": "markdown",
   "metadata": {},
   "source": [
    "Now, select only those runs where the first pick was red"
   ]
  },
  {
   "cell_type": "code",
   "execution_count": 6,
   "metadata": {},
   "outputs": [
    {
     "data": {
      "text/plain": [
       "[[True, False, False],\n",
       " [True, False, True],\n",
       " [True, False, True],\n",
       " [True, True, False],\n",
       " [True, False, False]]"
      ]
     },
     "execution_count": 6,
     "metadata": {},
     "output_type": "execute_result"
    }
   ],
   "source": [
    "first_pick_red_runs = [run for run in runs if run[0]]\n",
    "first_pick_red_runs"
   ]
  },
  {
   "cell_type": "markdown",
   "metadata": {},
   "source": [
    "So, what's the probabily of picking a non-red ball next?"
   ]
  },
  {
   "cell_type": "code",
   "execution_count": 7,
   "metadata": {},
   "outputs": [
    {
     "data": {
      "text/plain": [
       "0.8"
      ]
     },
     "execution_count": 7,
     "metadata": {},
     "output_type": "execute_result"
    }
   ],
   "source": [
    "len([run for run in first_pick_red_runs if not run[1]])/len(first_pick_red_runs)"
   ]
  },
  {
   "cell_type": "markdown",
   "metadata": {},
   "source": [
    "## To make it look nicer and see how it changes when increasing the number of experiments..."
   ]
  },
  {
   "cell_type": "code",
   "execution_count": 20,
   "metadata": {},
   "outputs": [],
   "source": [
    "def experiment(n=100):\n",
    "    runs = list()\n",
    "    for i in range(n):\n",
    "        runs.append(pick_order())\n",
    "    \n",
    "    first_pick_red_runs = [run for run in runs if run[0]]\n",
    "    if len(first_pick_red_runs): \n",
    "        return len([run for run in first_pick_red_runs if not run[1]])/len(first_pick_red_runs)\n",
    "    else:\n",
    "        # Just in case there were no valid cases\n",
    "        return 0"
   ]
  },
  {
   "cell_type": "code",
   "execution_count": 9,
   "metadata": {},
   "outputs": [
    {
     "data": {
      "text/plain": [
       "0.6"
      ]
     },
     "execution_count": 9,
     "metadata": {},
     "output_type": "execute_result"
    }
   ],
   "source": [
    "experiment(100)"
   ]
  },
  {
   "cell_type": "code",
   "execution_count": 25,
   "metadata": {},
   "outputs": [
    {
     "data": {
      "image/png": "[encoded data removed]",
      "text/plain": [
       "<Figure size 432x288 with 1 Axes>"
      ]
     },
     "metadata": {
      "needs_background": "light"
     },
     "output_type": "display_data"
    },
    {
     "name": "stdout",
     "output_type": "stream",
     "text": [
      "Average probability is 0.667\n",
      "Computation took 1.3 seconds\n"
     ]
    }
   ],
   "source": [
    "import matplotlib.pyplot as plt\n",
    "\n",
    "# It's good to know how long it takes\n",
    "import time\n",
    "start_time = time.time()\n",
    "\n",
    "data = [experiment(n) for n in range(1, 1000)]\n",
    "plt.plot(data)\n",
    "plt.ylabel('Probability for not red')\n",
    "plt.show()\n",
    "\n",
    "print('Average probability is {:.3f}'.format((sum(data)/len(data))))\n",
    "print('Computation took {:.1f} seconds'.format((time.time() - start_time)))"
   ]
  }
 ],
 "metadata": {
  "kernelspec": {
   "display_name": "Python 3",
   "language": "python",
   "name": "python3"
  },
  "language_info": {
   "codemirror_mode": {
    "name": "ipython",
    "version": 3
   },
   "file_extension": ".py",
   "mimetype": "text/x-python",
   "name": "python",
   "nbconvert_exporter": "python",
   "pygments_lexer": "ipython3",
   "version": "3.8.3"
  }
 },
 "nbformat": 4,
 "nbformat_minor": 4
}
