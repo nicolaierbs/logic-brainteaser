{
 "cells": [
  {
   "cell_type": "markdown",
   "metadata": {},
   "source": [
    "# Three (nine) balls on a scale"
   ]
  },
  {
   "cell_type": "markdown",
   "metadata": {},
   "source": [
    "You have three (nine) balls and a scale. One ball is heavier. Find out which one! You are allowed to use the scale only once (twice)."
   ]
  },
  {
   "cell_type": "markdown",
   "metadata": {},
   "source": [
    "Ball are collected in a list with 'True' balls as normal balls and the 'False' ball which is heavier."
   ]
  },
  {
   "cell_type": "code",
   "execution_count": 1,
   "metadata": {},
   "outputs": [],
   "source": [
    "# return which side dominates\n",
    "def scale(left, right):\n",
    "    # check if both collections have the same numer of balls, then check which one has the 'False' (heavy) ball\n",
    "    if len(left) > len(right):\n",
    "        return 'left'\n",
    "    elif len(left) < len(right):\n",
    "        return 'right'\n",
    "    elif all(left) == False:\n",
    "        return 'left'\n",
    "    elif all(right) == False:\n",
    "        return 'right'\n",
    "    else:\n",
    "        return 'equal'"
   ]
  },
  {
   "cell_type": "code",
   "execution_count": 2,
   "metadata": {},
   "outputs": [
    {
     "name": "stdout",
     "output_type": "stream",
     "text": [
      "right\n"
     ]
    }
   ],
   "source": [
    "print(scale([True, True], [True, False]))"
   ]
  },
  {
   "cell_type": "markdown",
   "metadata": {},
   "source": [
    "Get all possible combinations for the balls"
   ]
  },
  {
   "cell_type": "code",
   "execution_count": 3,
   "metadata": {},
   "outputs": [],
   "source": [
    "def all_combinations(ball_count):\n",
    "    combinations = list()\n",
    "    for i in range(ball_count):\n",
    "        combination = [True]*(ball_count-1)\n",
    "        combination.insert(i, False)\n",
    "        combinations.append(combination)\n",
    "    return combinations    "
   ]
  },
  {
   "cell_type": "code",
   "execution_count": 4,
   "metadata": {},
   "outputs": [
    {
     "name": "stdout",
     "output_type": "stream",
     "text": [
      "[[False, True, True], [True, False, True], [True, True, False]]\n"
     ]
    }
   ],
   "source": [
    "print(all_combinations(3))"
   ]
  },
  {
   "cell_type": "markdown",
   "metadata": {},
   "source": [
    "## Define a function to validate your solution"
   ]
  },
  {
   "cell_type": "markdown",
   "metadata": {},
   "source": [
    "The parameters are the function for solving the problem and the number of balls"
   ]
  },
  {
   "cell_type": "code",
   "execution_count": 5,
   "metadata": {},
   "outputs": [],
   "source": [
    "def validate(solve_func, ball_count):\n",
    "    for combination in all_combinations(ball_count):\n",
    "        solution = solve_func(combination)\n",
    "        for i in range(len(combination)):\n",
    "            if (i==solution) == combination[i]:\n",
    "                print('Wrong result for combination {}'.format(combination))\n",
    "                return False\n",
    "    return True"
   ]
  },
  {
   "cell_type": "markdown",
   "metadata": {},
   "source": [
    "## Solution"
   ]
  },
  {
   "cell_type": "markdown",
   "metadata": {},
   "source": [
    "Define a function that returns the index of the heavy ball"
   ]
  },
  {
   "cell_type": "code",
   "execution_count": 6,
   "metadata": {},
   "outputs": [],
   "source": [
    "def solve_three_balls(balls):\n",
    "    # weight the first two balls\n",
    "    result = scale([balls[0]], [balls[1]])\n",
    "    if result == 'left':\n",
    "        return 0\n",
    "    elif result == 'right':\n",
    "        return 1\n",
    "    elif result == 'equal':\n",
    "        return 2\n",
    "    else:\n",
    "        raise AssertionError"
   ]
  },
  {
   "cell_type": "code",
   "execution_count": 8,
   "metadata": {},
   "outputs": [
    {
     "data": {
      "text/plain": [
       "True"
      ]
     },
     "execution_count": 8,
     "metadata": {},
     "output_type": "execute_result"
    }
   ],
   "source": [
    "validate(solve_three_balls, 3)"
   ]
  },
  {
   "cell_type": "code",
   "execution_count": null,
   "metadata": {},
   "outputs": [],
   "source": []
  }
 ],
 "metadata": {
  "kernelspec": {
   "display_name": "Python 3",
   "language": "python",
   "name": "python3"
  },
  "language_info": {
   "codemirror_mode": {
    "name": "ipython",
    "version": 3
   },
   "file_extension": ".py",
   "mimetype": "text/x-python",
   "name": "python",
   "nbconvert_exporter": "python",
   "pygments_lexer": "ipython3",
   "version": "3.7.1"
  }
 },
 "nbformat": 4,
 "nbformat_minor": 4
}
