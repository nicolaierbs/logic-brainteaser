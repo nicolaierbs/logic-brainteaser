{
 "cells": [
  {
   "cell_type": "markdown",
   "metadata": {},
   "source": [
    "# Three (nine) balls on a scale"
   ]
  },
  {
   "cell_type": "markdown",
   "metadata": {},
   "source": [
    "You have three (nine) balls and a scale. One ball is heavier. Find out which one! You are allowed to use the scale only once (twice)."
   ]
  },
  {
   "cell_type": "markdown",
   "metadata": {},
   "source": [
    "Ball are collected in a list with 'True' balls as normal balls and the 'False' ball which is heavier."
   ]
  },
  {
   "cell_type": "code",
   "execution_count": 1,
   "metadata": {},
   "outputs": [],
   "source": [
    "# return which side dominates\n",
    "def scale(left, right):\n",
    "    # check if both collections have the same numer of balls, then check which one has the 'False' (heavy) ball\n",
    "    if len(left) > len(right):\n",
    "        return 'left'\n",
    "    elif len(left) < len(right):\n",
    "        return 'right'\n",
    "    elif all(left) == False:\n",
    "        return 'left'\n",
    "    elif all(right) == False:\n",
    "        return 'right'\n",
    "    else:\n",
    "        return 'equal'"
   ]
  },
  {
   "cell_type": "code",
   "execution_count": 2,
   "metadata": {},
   "outputs": [
    {
     "name": "stdout",
     "output_type": "stream",
     "text": [
      "right\n"
     ]
    }
   ],
   "source": [
    "print(scale([True, True], [True, False]))"
   ]
  },
  {
   "cell_type": "markdown",
   "metadata": {},
   "source": [
    "Get all possible combinations for the balls"
   ]
  },
  {
   "cell_type": "code",
   "execution_count": 3,
   "metadata": {},
   "outputs": [],
   "source": [
    "import itertools"
   ]
  },
  {
   "cell_type": "code",
   "execution_count": 4,
   "metadata": {},
   "outputs": [],
   "source": [
    "def all_combinations(ball_count):\n",
    "    balls = list()\n",
    "    balls.append(False)\n",
    "    balls.extend([True]*(ball_count-1))\n",
    "    return list(set(itertools.permutations(balls)))"
   ]
  },
  {
   "cell_type": "code",
   "execution_count": 5,
   "metadata": {},
   "outputs": [
    {
     "name": "stdout",
     "output_type": "stream",
     "text": [
      "[(False, True, True), (True, True, False), (True, False, True)]\n"
     ]
    }
   ],
   "source": [
    "print(all_combinations(3))"
   ]
  },
  {
   "cell_type": "markdown",
   "metadata": {},
   "source": [
    "## Define a function to validate your solution"
   ]
  },
  {
   "cell_type": "markdown",
   "metadata": {},
   "source": [
    "The parameters are the function for solving the problem and the number of balls"
   ]
  },
  {
   "cell_type": "code",
   "execution_count": 6,
   "metadata": {},
   "outputs": [],
   "source": [
    "def validate(solve_func, ball_count):\n",
    "    for combination in all_combinations(ball_count):\n",
    "        solution = solve_func(combination)\n",
    "        for i in range(len(combination)):\n",
    "            if (i==solution) == combination[i]:\n",
    "                print('Wrong result for combination {}'.format(combination))\n",
    "                return False\n",
    "    return True"
   ]
  },
  {
   "cell_type": "markdown",
   "metadata": {},
   "source": [
    "## Solution with logic"
   ]
  },
  {
   "cell_type": "markdown",
   "metadata": {},
   "source": [
    "Define a function that returns the index of the heavy ball"
   ]
  },
  {
   "cell_type": "code",
   "execution_count": 62,
   "metadata": {},
   "outputs": [],
   "source": [
    "def solve_three_balls_logic(balls):\n",
    "    # weight the first two balls\n",
    "    if any(type(chunk) is bool for chunk in balls):\n",
    "        result = scale([balls[0]], [balls[1]])\n",
    "    else:\n",
    "        result = scale(balls[0], balls[1])\n",
    "    if result == 'left':\n",
    "        return 0\n",
    "    elif result == 'right':\n",
    "        return 1\n",
    "    elif result == 'equal':\n",
    "        return 2\n",
    "    else:\n",
    "        raise AssertionError"
   ]
  },
  {
   "cell_type": "code",
   "execution_count": 46,
   "metadata": {},
   "outputs": [
    {
     "data": {
      "text/plain": [
       "True"
      ]
     },
     "execution_count": 46,
     "metadata": {},
     "output_type": "execute_result"
    }
   ],
   "source": [
    "validate(solve_three_balls_logic, 3)"
   ]
  },
  {
   "cell_type": "code",
   "execution_count": 26,
   "metadata": {},
   "outputs": [],
   "source": [
    "def split(balls, chunk_counts):\n",
    "    k, m = divmod(len(balls), chunk_counts)\n",
    "    return list(balls[i*k+min(i, m):(i+1)*k+min(i+1, m)] for i in range(chunk_counts))"
   ]
  },
  {
   "cell_type": "code",
   "execution_count": 67,
   "metadata": {},
   "outputs": [],
   "source": [
    "def solve_ball_logic(balls):\n",
    "    if len(balls) > 3:\n",
    "        ball_chunks = list(split(balls, 3))\n",
    "    else:\n",
    "        ball_chunks = balls\n",
    "    total_position = 0\n",
    "    while type(ball_chunks) is list or type(ball_chunks) is tuple:\n",
    "        position = solve_three_balls_logic(ball_chunks)\n",
    "        total_position = 3*total_position + position\n",
    "        ball_chunks = ball_chunks[position]\n",
    "    return total_position"
   ]
  },
  {
   "cell_type": "code",
   "execution_count": 68,
   "metadata": {},
   "outputs": [
    {
     "data": {
      "text/plain": [
       "True"
      ]
     },
     "execution_count": 68,
     "metadata": {},
     "output_type": "execute_result"
    }
   ],
   "source": [
    "validate(solve_ball_logic, 9)"
   ]
  }
 ],
 "metadata": {
  "kernelspec": {
   "display_name": "Python 3",
   "language": "python",
   "name": "python3"
  },
  "language_info": {
   "codemirror_mode": {
    "name": "ipython",
    "version": 3
   },
   "file_extension": ".py",
   "mimetype": "text/x-python",
   "name": "python",
   "nbconvert_exporter": "python",
   "pygments_lexer": "ipython3",
   "version": "3.7.1"
  }
 },
 "nbformat": 4,
 "nbformat_minor": 4
}
